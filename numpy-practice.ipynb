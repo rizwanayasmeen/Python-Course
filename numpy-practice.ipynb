{
 "cells": [
  {
   "cell_type": "code",
   "execution_count": 2,
   "id": "af522bf9",
   "metadata": {
    "ExecuteTime": {
     "end_time": "2023-02-21T07:25:11.124524Z",
     "start_time": "2023-02-21T07:24:59.664910Z"
    }
   },
   "outputs": [],
   "source": [
    "import numpy as np\n",
    "import pandas as pd"
   ]
  },
  {
   "cell_type": "markdown",
   "id": "5e53bd6c",
   "metadata": {},
   "source": [
    "# Array Creation "
   ]
  },
  {
   "cell_type": "code",
   "execution_count": 2,
   "id": "d4abb100",
   "metadata": {
    "ExecuteTime": {
     "end_time": "2023-02-20T17:47:47.372211Z",
     "start_time": "2023-02-20T17:47:47.356064Z"
    }
   },
   "outputs": [
    {
     "data": {
      "text/plain": [
       "array([[1, 2, 3],\n",
       "       [4, 2, 5]])"
      ]
     },
     "execution_count": 2,
     "metadata": {},
     "output_type": "execute_result"
    }
   ],
   "source": [
    "arr = np.array([[1,2,3],[4,2,5]])\n",
    "arr"
   ]
  },
  {
   "cell_type": "markdown",
   "id": "54c43a1a",
   "metadata": {},
   "source": [
    "# Printing type of arr object"
   ]
  },
  {
   "cell_type": "code",
   "execution_count": 3,
   "id": "008846aa",
   "metadata": {
    "ExecuteTime": {
     "end_time": "2023-02-20T17:47:47.551484Z",
     "start_time": "2023-02-20T17:47:47.372807Z"
    }
   },
   "outputs": [
    {
     "name": "stdout",
     "output_type": "stream",
     "text": [
      "Array is of type:  <class 'numpy.ndarray'>\n"
     ]
    }
   ],
   "source": [
    "# Printing type of arr object\n",
    "print(\"Array is of type: \", type(arr))"
   ]
  },
  {
   "cell_type": "markdown",
   "id": "2ce4b65c",
   "metadata": {},
   "source": [
    "# Printing array dimensions (axes or dimensions)\n"
   ]
  },
  {
   "cell_type": "code",
   "execution_count": 4,
   "id": "343c2f15",
   "metadata": {
    "ExecuteTime": {
     "end_time": "2023-02-20T17:47:47.642710Z",
     "start_time": "2023-02-20T17:47:47.554052Z"
    }
   },
   "outputs": [
    {
     "data": {
      "text/plain": [
       "2"
      ]
     },
     "execution_count": 4,
     "metadata": {},
     "output_type": "execute_result"
    }
   ],
   "source": [
    "# Printing array dimensions (axes or dimensions)\n",
    "arr.ndim"
   ]
  },
  {
   "cell_type": "markdown",
   "id": "978ceb1b",
   "metadata": {},
   "source": [
    "# Printing shape of array\n"
   ]
  },
  {
   "cell_type": "code",
   "execution_count": 5,
   "id": "d3ca1acd",
   "metadata": {
    "ExecuteTime": {
     "end_time": "2023-02-20T17:47:47.721170Z",
     "start_time": "2023-02-20T17:47:47.643541Z"
    }
   },
   "outputs": [
    {
     "data": {
      "text/plain": [
       "(2, 3)"
      ]
     },
     "execution_count": 5,
     "metadata": {},
     "output_type": "execute_result"
    }
   ],
   "source": [
    "# Printing shape of array\n",
    "arr.shape"
   ]
  },
  {
   "cell_type": "markdown",
   "id": "cd34fe76",
   "metadata": {},
   "source": [
    "# Printing size (total number of elements) of array\n"
   ]
  },
  {
   "cell_type": "code",
   "execution_count": 6,
   "id": "969044e5",
   "metadata": {
    "ExecuteTime": {
     "end_time": "2023-02-20T17:47:47.805184Z",
     "start_time": "2023-02-20T17:47:47.722137Z"
    }
   },
   "outputs": [
    {
     "data": {
      "text/plain": [
       "6"
      ]
     },
     "execution_count": 6,
     "metadata": {},
     "output_type": "execute_result"
    }
   ],
   "source": [
    "# Printing size (total number of elements) of array\n",
    "arr.size"
   ]
  },
  {
   "cell_type": "markdown",
   "id": "816d4655",
   "metadata": {
    "ExecuteTime": {
     "end_time": "2023-02-20T17:38:19.208881Z",
     "start_time": "2023-02-20T17:38:19.201859Z"
    }
   },
   "source": [
    "# Printing type of elements in array\n"
   ]
  },
  {
   "cell_type": "code",
   "execution_count": 7,
   "id": "fea1810f",
   "metadata": {
    "ExecuteTime": {
     "end_time": "2023-02-20T17:47:47.908531Z",
     "start_time": "2023-02-20T17:47:47.807183Z"
    }
   },
   "outputs": [
    {
     "data": {
      "text/plain": [
       "dtype('int32')"
      ]
     },
     "execution_count": 7,
     "metadata": {},
     "output_type": "execute_result"
    }
   ],
   "source": [
    "# Printing type of elements in array\n",
    "arr.dtype"
   ]
  },
  {
   "cell_type": "markdown",
   "id": "0d1a877c",
   "metadata": {},
   "source": [
    "# Creating array from list with type float\n"
   ]
  },
  {
   "cell_type": "code",
   "execution_count": 8,
   "id": "fc6f9cfd",
   "metadata": {
    "ExecuteTime": {
     "end_time": "2023-02-20T17:47:48.002749Z",
     "start_time": "2023-02-20T17:47:47.909529Z"
    }
   },
   "outputs": [
    {
     "name": "stdout",
     "output_type": "stream",
     "text": [
      "Array created using passed list:\n",
      " [[1. 2. 4.]\n",
      " [5. 8. 7.]]\n"
     ]
    }
   ],
   "source": [
    "# Creating array from list with type float\n",
    "a = np.array([[1, 2, 4], [5, 8, 7]], dtype = 'float')\n",
    "print (\"Array created using passed list:\\n\", a)"
   ]
  },
  {
   "cell_type": "markdown",
   "id": "11baa2b7",
   "metadata": {},
   "source": [
    "# Creating array from tuple\n"
   ]
  },
  {
   "cell_type": "code",
   "execution_count": 9,
   "id": "55cd3660",
   "metadata": {
    "ExecuteTime": {
     "end_time": "2023-02-20T17:47:48.089106Z",
     "start_time": "2023-02-20T17:47:48.004744Z"
    }
   },
   "outputs": [
    {
     "data": {
      "text/plain": [
       "array([1, 3, 2])"
      ]
     },
     "execution_count": 9,
     "metadata": {},
     "output_type": "execute_result"
    }
   ],
   "source": [
    "# Creating array from tuple\n",
    "b = np.array((1 , 3, 2))\n",
    "b"
   ]
  },
  {
   "cell_type": "code",
   "execution_count": 10,
   "id": "d577a3c9",
   "metadata": {
    "ExecuteTime": {
     "end_time": "2023-02-20T17:47:48.192640Z",
     "start_time": "2023-02-20T17:47:48.091064Z"
    }
   },
   "outputs": [
    {
     "name": "stdout",
     "output_type": "stream",
     "text": [
      "\n",
      "Array created using passed tuple:\n",
      " [1 3 2]\n"
     ]
    }
   ],
   "source": [
    "print (\"\\nArray created using passed tuple:\\n\", b)"
   ]
  },
  {
   "cell_type": "markdown",
   "id": "ee386701",
   "metadata": {},
   "source": [
    "# Creating a 3X4 array with all zeros\n"
   ]
  },
  {
   "cell_type": "code",
   "execution_count": 11,
   "id": "cb9c2a12",
   "metadata": {
    "ExecuteTime": {
     "end_time": "2023-02-20T17:47:48.289946Z",
     "start_time": "2023-02-20T17:47:48.194636Z"
    }
   },
   "outputs": [
    {
     "data": {
      "text/plain": [
       "array([[0., 0., 0., 0.],\n",
       "       [0., 0., 0., 0.],\n",
       "       [0., 0., 0., 0.]])"
      ]
     },
     "execution_count": 11,
     "metadata": {},
     "output_type": "execute_result"
    }
   ],
   "source": [
    "# Creating a 3X4 array with all zeros\n",
    "c = np.zeros((3, 4))\n",
    "c"
   ]
  },
  {
   "cell_type": "markdown",
   "id": "05136da3",
   "metadata": {},
   "source": [
    "# Create a constant value array of complex type\n"
   ]
  },
  {
   "cell_type": "code",
   "execution_count": 12,
   "id": "7bcc5f70",
   "metadata": {
    "ExecuteTime": {
     "end_time": "2023-02-20T17:47:48.385941Z",
     "start_time": "2023-02-20T17:47:48.291943Z"
    }
   },
   "outputs": [],
   "source": [
    "# Create a constant value array of complex type\n",
    "d = np.full((3, 3), 6, dtype = 'complex')"
   ]
  },
  {
   "cell_type": "code",
   "execution_count": 13,
   "id": "ee6b9cd7",
   "metadata": {
    "ExecuteTime": {
     "end_time": "2023-02-20T17:47:48.497056Z",
     "start_time": "2023-02-20T17:47:48.387936Z"
    }
   },
   "outputs": [
    {
     "name": "stdout",
     "output_type": "stream",
     "text": [
      "\n",
      "An array initialized with all 6s.Array type is complex:\n",
      " [[6.+0.j 6.+0.j 6.+0.j]\n",
      " [6.+0.j 6.+0.j 6.+0.j]\n",
      " [6.+0.j 6.+0.j 6.+0.j]]\n"
     ]
    }
   ],
   "source": [
    "print (\"\\nAn array initialized with all 6s.\"\n",
    "            \"Array type is complex:\\n\", d)"
   ]
  },
  {
   "cell_type": "markdown",
   "id": "c1269e8a",
   "metadata": {},
   "source": [
    "# Create an array with random values"
   ]
  },
  {
   "cell_type": "code",
   "execution_count": 14,
   "id": "e5367431",
   "metadata": {
    "ExecuteTime": {
     "end_time": "2023-02-20T17:47:48.575804Z",
     "start_time": "2023-02-20T17:47:48.498010Z"
    }
   },
   "outputs": [
    {
     "name": "stdout",
     "output_type": "stream",
     "text": [
      "\n",
      "A random array:\n",
      " [[0.70673766 0.75777335]\n",
      " [0.02046139 0.32187658]]\n"
     ]
    }
   ],
   "source": [
    "e = np.random.random((2, 2))\n",
    "print (\"\\nA random array:\\n\", e)"
   ]
  },
  {
   "cell_type": "markdown",
   "id": "58a0edc6",
   "metadata": {},
   "source": [
    "# fill value"
   ]
  },
  {
   "cell_type": "code",
   "execution_count": 30,
   "id": "5a13f510",
   "metadata": {
    "ExecuteTime": {
     "end_time": "2023-02-21T07:47:44.192370Z",
     "start_time": "2023-02-21T07:47:44.163600Z"
    }
   },
   "outputs": [
    {
     "name": "stdout",
     "output_type": "stream",
     "text": [
      "\n",
      "A random array:\n",
      " [[4 4]\n",
      " [4 4]]\n"
     ]
    }
   ],
   "source": [
    "e = np.full((2, 2),fill_value=4)\n",
    "print (\"\\nA random array:\\n\", e)"
   ]
  },
  {
   "cell_type": "markdown",
   "id": "b44cf17a",
   "metadata": {},
   "source": [
    "# Identity"
   ]
  },
  {
   "cell_type": "code",
   "execution_count": 48,
   "id": "58914df2",
   "metadata": {
    "ExecuteTime": {
     "end_time": "2023-02-21T08:18:04.421892Z",
     "start_time": "2023-02-21T08:18:04.398048Z"
    }
   },
   "outputs": [
    {
     "data": {
      "text/plain": [
       "array([[1, 0, 0, 0, 0],\n",
       "       [0, 1, 0, 0, 0],\n",
       "       [0, 0, 1, 0, 0],\n",
       "       [0, 0, 0, 1, 0],\n",
       "       [0, 0, 0, 0, 1]])"
      ]
     },
     "execution_count": 48,
     "metadata": {},
     "output_type": "execute_result"
    }
   ],
   "source": [
    "i = np.identity(5,dtype='int32')\n",
    "i"
   ]
  },
  {
   "cell_type": "markdown",
   "id": "e50ff2e5",
   "metadata": {},
   "source": [
    "# Create a sequence of 10 values in range 0 to 30\n"
   ]
  },
  {
   "cell_type": "code",
   "execution_count": 15,
   "id": "049fa8a1",
   "metadata": {
    "ExecuteTime": {
     "end_time": "2023-02-20T17:47:48.653997Z",
     "start_time": "2023-02-20T17:47:48.577798Z"
    }
   },
   "outputs": [
    {
     "name": "stdout",
     "output_type": "stream",
     "text": [
      "[ 0  5 10 15 20 25]\n"
     ]
    }
   ],
   "source": [
    "# Create a sequence of 10 values in range 0 to 30\n",
    "f = np.arange(0,30,5)\n",
    "print(f)"
   ]
  },
  {
   "cell_type": "markdown",
   "id": "5317f20d",
   "metadata": {},
   "source": [
    "# Reshaping 3X4 array to 2X2X3 array\n"
   ]
  },
  {
   "cell_type": "code",
   "execution_count": 16,
   "id": "536d34e9",
   "metadata": {
    "ExecuteTime": {
     "end_time": "2023-02-20T17:47:48.747539Z",
     "start_time": "2023-02-20T17:47:48.660936Z"
    }
   },
   "outputs": [],
   "source": [
    "# Reshaping 3X4 array to 2X2X3 array\n",
    "arr = np.array([[1, 2, 3, 4],\n",
    "                [5, 6, 7, 8],\n",
    "                [9, 10, 11, 12]])\n",
    " \n",
    "newarr = arr.reshape(2, 2, 3)"
   ]
  },
  {
   "cell_type": "code",
   "execution_count": 17,
   "id": "a6173bf3",
   "metadata": {
    "ExecuteTime": {
     "end_time": "2023-02-20T17:47:48.842698Z",
     "start_time": "2023-02-20T17:47:48.749535Z"
    }
   },
   "outputs": [
    {
     "name": "stdout",
     "output_type": "stream",
     "text": [
      "\n",
      "Original array:\n",
      " [[ 1  2  3  4]\n",
      " [ 5  6  7  8]\n",
      " [ 9 10 11 12]]\n",
      "Reshaped array:\n",
      " [[[ 1  2  3]\n",
      "  [ 4  5  6]]\n",
      "\n",
      " [[ 7  8  9]\n",
      "  [10 11 12]]]\n"
     ]
    }
   ],
   "source": [
    "print (\"\\nOriginal array:\\n\", arr)\n",
    "print (\"Reshaped array:\\n\", newarr)"
   ]
  },
  {
   "cell_type": "markdown",
   "id": "2af351be",
   "metadata": {},
   "source": [
    "# Flatten array"
   ]
  },
  {
   "cell_type": "code",
   "execution_count": 18,
   "id": "b64589d1",
   "metadata": {
    "ExecuteTime": {
     "end_time": "2023-02-20T17:47:48.920601Z",
     "start_time": "2023-02-20T17:47:48.844653Z"
    }
   },
   "outputs": [
    {
     "name": "stdout",
     "output_type": "stream",
     "text": [
      "\n",
      "Original array:\n",
      " [[1 2 3]\n",
      " [4 5 6]]\n",
      "Fattened array:\n",
      " [1 2 3 4 5 6]\n"
     ]
    }
   ],
   "source": [
    "# Flatten array: We can use flatten method to get a copy of array collapsed into one dimension.\n",
    "arr = np.array([[1, 2, 3], [4, 5, 6]])\n",
    "flarr = arr.flatten()\n",
    " \n",
    "print (\"\\nOriginal array:\\n\", arr)\n",
    "print (\"Fattened array:\\n\", flarr)"
   ]
  },
  {
   "cell_type": "markdown",
   "id": "25396ba1",
   "metadata": {},
   "source": [
    "# linspace:"
   ]
  },
  {
   "cell_type": "code",
   "execution_count": 19,
   "id": "ce3376b7",
   "metadata": {
    "ExecuteTime": {
     "end_time": "2023-02-20T17:47:49.000048Z",
     "start_time": "2023-02-20T17:47:48.922209Z"
    }
   },
   "outputs": [
    {
     "name": "stdout",
     "output_type": "stream",
     "text": [
      "[ 0.          5.55555556 11.11111111 16.66666667 22.22222222 27.77777778\n",
      " 33.33333333 38.88888889 44.44444444 50.        ]\n"
     ]
    }
   ],
   "source": [
    "# linspace: returns evenly spaced values within a given interval. num no. of elements are returned.\n",
    "n = np.linspace(0,50,10)\n",
    "print(n)"
   ]
  },
  {
   "cell_type": "markdown",
   "id": "96ac1515",
   "metadata": {},
   "source": [
    "# arange: "
   ]
  },
  {
   "cell_type": "code",
   "execution_count": 20,
   "id": "7a3fa085",
   "metadata": {
    "ExecuteTime": {
     "end_time": "2023-02-20T17:47:49.076731Z",
     "start_time": "2023-02-20T17:47:49.000947Z"
    }
   },
   "outputs": [
    {
     "name": "stdout",
     "output_type": "stream",
     "text": [
      "[ 0 10 20 30 40]\n"
     ]
    }
   ],
   "source": [
    "# arange: returns evenly spaced values within a given interval. step size is specified\n",
    "# step size is specified.\n",
    "f = np.arange(0,50,10)\n",
    "print(f)"
   ]
  },
  {
   "cell_type": "markdown",
   "id": "fa153172",
   "metadata": {},
   "source": [
    "# Uniform Samples\n",
    "#### Generate a random sample from a uniform distribution between lower and higher limit values."
   ]
  },
  {
   "cell_type": "code",
   "execution_count": 39,
   "id": "df123245",
   "metadata": {
    "ExecuteTime": {
     "end_time": "2023-02-21T08:05:41.778801Z",
     "start_time": "2023-02-21T08:05:41.753076Z"
    }
   },
   "outputs": [
    {
     "data": {
      "text/plain": [
       "array([9.23798522, 5.80212104, 5.15521029, 7.30397647])"
      ]
     },
     "execution_count": 39,
     "metadata": {},
     "output_type": "execute_result"
    }
   ],
   "source": [
    "u = np.random.uniform(5,10,size = 4)\n",
    "u"
   ]
  },
  {
   "cell_type": "code",
   "execution_count": 40,
   "id": "5e1f8d81",
   "metadata": {
    "ExecuteTime": {
     "end_time": "2023-02-21T08:06:09.872775Z",
     "start_time": "2023-02-21T08:06:09.861089Z"
    }
   },
   "outputs": [
    {
     "data": {
      "text/plain": [
       "array([0.38473607, 0.34720691, 0.76852063, 0.68778411, 0.38454775])"
      ]
     },
     "execution_count": 40,
     "metadata": {},
     "output_type": "execute_result"
    }
   ],
   "source": [
    "u = np.random.uniform(size = 5)\n",
    "u"
   ]
  },
  {
   "cell_type": "code",
   "execution_count": 41,
   "id": "1425bbc4",
   "metadata": {
    "ExecuteTime": {
     "end_time": "2023-02-21T08:06:38.640759Z",
     "start_time": "2023-02-21T08:06:38.620099Z"
    }
   },
   "outputs": [
    {
     "data": {
      "text/plain": [
       "array([[5.55909576, 9.52305193, 5.77477689],\n",
       "       [5.49420011, 7.40109013, 9.91031319]])"
      ]
     },
     "execution_count": 41,
     "metadata": {},
     "output_type": "execute_result"
    }
   ],
   "source": [
    "np.random.uniform(5,10,size = (2,3))"
   ]
  },
  {
   "cell_type": "code",
   "execution_count": 139,
   "id": "ab8aa169",
   "metadata": {
    "ExecuteTime": {
     "end_time": "2023-02-21T09:26:30.161181Z",
     "start_time": "2023-02-21T09:26:30.136934Z"
    }
   },
   "outputs": [
    {
     "data": {
      "text/plain": [
       "(array([1, 2, 3, 4, 5, 6]), array([2, 2, 2, 1, 1, 2], dtype=int64))"
      ]
     },
     "execution_count": 139,
     "metadata": {},
     "output_type": "execute_result"
    }
   ],
   "source": [
    "arr = np.array([1,1,2,3,3,4,5,6,6,2])\n",
    "np.unique(arr,return_counts=True)"
   ]
  },
  {
   "cell_type": "markdown",
   "id": "4b25d94e",
   "metadata": {},
   "source": [
    "# random.randint"
   ]
  },
  {
   "cell_type": "code",
   "execution_count": 20,
   "id": "76cb94f2",
   "metadata": {
    "ExecuteTime": {
     "end_time": "2023-02-21T07:39:27.282121Z",
     "start_time": "2023-02-21T07:39:27.259195Z"
    }
   },
   "outputs": [
    {
     "data": {
      "text/plain": [
       "array([7, 7, 7, 9, 9, 6, 7, 5, 8, 8])"
      ]
     },
     "execution_count": 20,
     "metadata": {},
     "output_type": "execute_result"
    }
   ],
   "source": [
    "r = np.random.randint(5,10,10)\n",
    "r"
   ]
  },
  {
   "cell_type": "markdown",
   "id": "9a856c4f",
   "metadata": {},
   "source": [
    "# Random.random"
   ]
  },
  {
   "cell_type": "code",
   "execution_count": 23,
   "id": "6aa6ee91",
   "metadata": {
    "ExecuteTime": {
     "end_time": "2023-02-21T07:41:22.097529Z",
     "start_time": "2023-02-21T07:41:22.081410Z"
    }
   },
   "outputs": [
    {
     "data": {
      "text/plain": [
       "array([0.02196738, 0.55072336, 0.11382737, 0.28879061, 0.02043896,\n",
       "       0.82495151, 0.73336521, 0.11078485, 0.50070395, 0.50495493])"
      ]
     },
     "execution_count": 23,
     "metadata": {},
     "output_type": "execute_result"
    }
   ],
   "source": [
    "r = np.random.random(10)\n",
    "r"
   ]
  },
  {
   "cell_type": "markdown",
   "id": "066fdc12",
   "metadata": {},
   "source": [
    "# logspace\n",
    "#### Generate evenly spaced numbers on a log scale."
   ]
  },
  {
   "cell_type": "code",
   "execution_count": 38,
   "id": "0da15e81",
   "metadata": {
    "ExecuteTime": {
     "end_time": "2023-02-21T08:04:22.377702Z",
     "start_time": "2023-02-21T08:04:22.353970Z"
    }
   },
   "outputs": [
    {
     "data": {
      "text/plain": [
       "array([1.        , 1.31950791, 1.74110113, 2.29739671, 3.03143313,\n",
       "       4.        ])"
      ]
     },
     "execution_count": 38,
     "metadata": {},
     "output_type": "execute_result"
    }
   ],
   "source": [
    "l = np.logspace(0,2,6,base=2)\n",
    "l"
   ]
  },
  {
   "cell_type": "code",
   "execution_count": 42,
   "id": "56c1667f",
   "metadata": {
    "ExecuteTime": {
     "end_time": "2023-02-21T08:09:24.816302Z",
     "start_time": "2023-02-21T08:09:24.793588Z"
    }
   },
   "outputs": [
    {
     "data": {
      "text/plain": [
       "array([1.000000e+00, 2.500000e+01, 6.250000e+02, 1.562500e+04,\n",
       "       3.906250e+05, 9.765625e+06])"
      ]
     },
     "execution_count": 42,
     "metadata": {},
     "output_type": "execute_result"
    }
   ],
   "source": [
    "l = np.logspace(0,10,6,endpoint=True,base=5)\n",
    "l"
   ]
  },
  {
   "cell_type": "code",
   "execution_count": 18,
   "id": "fe301aba",
   "metadata": {
    "ExecuteTime": {
     "end_time": "2023-02-21T07:39:19.515132Z",
     "start_time": "2023-02-21T07:39:19.496728Z"
    }
   },
   "outputs": [],
   "source": [
    "arr = np.array([[-1, 2, 0, 4],\n",
    "                [4, -0.5, 6, 0],\n",
    "                [2.6, 0, 7, 8],\n",
    "                [3, -7, 4, 2.0]])"
   ]
  },
  {
   "cell_type": "markdown",
   "id": "aff951ba",
   "metadata": {},
   "source": [
    "# Slicing array"
   ]
  },
  {
   "cell_type": "code",
   "execution_count": 10,
   "id": "1390649a",
   "metadata": {
    "ExecuteTime": {
     "end_time": "2023-02-21T07:26:47.069461Z",
     "start_time": "2023-02-21T07:26:47.053676Z"
    }
   },
   "outputs": [
    {
     "name": "stdout",
     "output_type": "stream",
     "text": [
      "Array with first 2 rows and alternatecolumns(0 and 2):\n",
      " [[-1.  0.]\n",
      " [ 4.  6.]]\n"
     ]
    }
   ],
   "source": [
    "arr = np.array([[-1, 2, 0, 4],\n",
    "                [4, -0.5, 6, 0],\n",
    "                [2.6, 0, 7, 8],\n",
    "                [3, -7, 4, 2.0]])\n",
    "temp = arr[:2, ::2]\n",
    "print (\"Array with first 2 rows and alternate\"\n",
    "                    \"columns(0 and 2):\\n\", temp)"
   ]
  },
  {
   "cell_type": "markdown",
   "id": "d82e1e29",
   "metadata": {},
   "source": [
    "# Indexing"
   ]
  },
  {
   "cell_type": "code",
   "execution_count": 52,
   "id": "92db12a4",
   "metadata": {
    "ExecuteTime": {
     "end_time": "2023-02-20T18:11:34.802896Z",
     "start_time": "2023-02-20T18:11:34.785944Z"
    }
   },
   "outputs": [
    {
     "name": "stdout",
     "output_type": "stream",
     "text": [
      "7\n"
     ]
    }
   ],
   "source": [
    "arr = np.array([1, 2, 3, 4])\n",
    "\n",
    "print(arr[2] + arr[3])"
   ]
  },
  {
   "cell_type": "markdown",
   "id": "7bd6289b",
   "metadata": {},
   "source": [
    "### Access 2-D Arrays "
   ]
  },
  {
   "cell_type": "code",
   "execution_count": 55,
   "id": "fe4eae23",
   "metadata": {
    "ExecuteTime": {
     "end_time": "2023-02-20T18:12:56.542762Z",
     "start_time": "2023-02-20T18:12:56.533747Z"
    }
   },
   "outputs": [
    {
     "name": "stdout",
     "output_type": "stream",
     "text": [
      "2nd element on 1st row:  2\n"
     ]
    }
   ],
   "source": [
    "arr = np.array([[1,2,3,4,5], [6,7,8,9,10]])\n",
    "\n",
    "print('2nd element on 1st row: ', arr[0, 1])"
   ]
  },
  {
   "cell_type": "code",
   "execution_count": 56,
   "id": "dedb3bda",
   "metadata": {
    "ExecuteTime": {
     "end_time": "2023-02-20T18:13:12.325259Z",
     "start_time": "2023-02-20T18:13:12.317286Z"
    }
   },
   "outputs": [
    {
     "name": "stdout",
     "output_type": "stream",
     "text": [
      "5th element on 2nd row:  10\n"
     ]
    }
   ],
   "source": [
    "print('5th element on 2nd row: ', arr[1, 4])"
   ]
  },
  {
   "cell_type": "markdown",
   "id": "d396e498",
   "metadata": {},
   "source": [
    "### Access 3-D Arrays\n"
   ]
  },
  {
   "cell_type": "code",
   "execution_count": 62,
   "id": "f3450426",
   "metadata": {
    "ExecuteTime": {
     "end_time": "2023-02-20T18:19:00.491938Z",
     "start_time": "2023-02-20T18:19:00.484917Z"
    }
   },
   "outputs": [],
   "source": [
    "arr = np.array([[[1, 2, 3], [4, 5, 6]], [[7, 8, 9], [10, 11, 12]]])"
   ]
  },
  {
   "cell_type": "code",
   "execution_count": 60,
   "id": "c4b95e5c",
   "metadata": {
    "ExecuteTime": {
     "end_time": "2023-02-20T18:17:37.373429Z",
     "start_time": "2023-02-20T18:17:37.353958Z"
    }
   },
   "outputs": [
    {
     "data": {
      "text/plain": [
       "array([[[ 1,  2,  3],\n",
       "        [ 4,  5,  6]],\n",
       "\n",
       "       [[ 7,  8,  9],\n",
       "        [10, 11, 12]]])"
      ]
     },
     "execution_count": 60,
     "metadata": {},
     "output_type": "execute_result"
    }
   ],
   "source": [
    "arr"
   ]
  },
  {
   "cell_type": "code",
   "execution_count": 63,
   "id": "5f085938",
   "metadata": {
    "ExecuteTime": {
     "end_time": "2023-02-20T18:19:07.565048Z",
     "start_time": "2023-02-20T18:19:07.556033Z"
    }
   },
   "outputs": [
    {
     "name": "stdout",
     "output_type": "stream",
     "text": [
      "9\n"
     ]
    }
   ],
   "source": [
    "print(arr[1, 0, 2])"
   ]
  },
  {
   "cell_type": "markdown",
   "id": "9690956d",
   "metadata": {},
   "source": [
    "### Negative Indexing\n"
   ]
  },
  {
   "cell_type": "code",
   "execution_count": 69,
   "id": "06b3a082",
   "metadata": {
    "ExecuteTime": {
     "end_time": "2023-02-20T18:29:21.136256Z",
     "start_time": "2023-02-20T18:29:21.129270Z"
    }
   },
   "outputs": [
    {
     "name": "stdout",
     "output_type": "stream",
     "text": [
      "Last element from 2nd dim:  10\n"
     ]
    }
   ],
   "source": [
    "arr = np.array([[1,2,3,4,5], [6,7,8,9,10]])\n",
    "\n",
    "print('Last element from 2nd dim: ', arr[1, -1])"
   ]
  },
  {
   "cell_type": "markdown",
   "id": "d4402da1",
   "metadata": {},
   "source": [
    "### Step Indexing\n"
   ]
  },
  {
   "cell_type": "code",
   "execution_count": 68,
   "id": "b6d237a0",
   "metadata": {
    "ExecuteTime": {
     "end_time": "2023-02-20T18:27:55.374105Z",
     "start_time": "2023-02-20T18:27:55.359107Z"
    }
   },
   "outputs": [
    {
     "name": "stdout",
     "output_type": "stream",
     "text": [
      "[10 20 30 40]\n"
     ]
    }
   ],
   "source": [
    "arr = np.array([10, 15, 20, 25, 30, 35, 40])\n",
    "print(arr[::2])"
   ]
  },
  {
   "cell_type": "code",
   "execution_count": 72,
   "id": "b9a960d6",
   "metadata": {
    "ExecuteTime": {
     "end_time": "2023-02-20T18:31:46.870336Z",
     "start_time": "2023-02-20T18:31:46.856374Z"
    }
   },
   "outputs": [
    {
     "name": "stdout",
     "output_type": "stream",
     "text": [
      "[[1 2]\n",
      " [6 7]]\n"
     ]
    }
   ],
   "source": [
    "arr = np.array([[1,2,3,4,5], [6,7,8,9,10]])\n",
    "print(arr[:2,:2])"
   ]
  },
  {
   "cell_type": "code",
   "execution_count": 80,
   "id": "e17fd129",
   "metadata": {
    "ExecuteTime": {
     "end_time": "2023-02-20T18:33:56.759479Z",
     "start_time": "2023-02-20T18:33:56.747509Z"
    }
   },
   "outputs": [
    {
     "name": "stdout",
     "output_type": "stream",
     "text": [
      "[[1 3 5]]\n"
     ]
    }
   ],
   "source": [
    "arr = np.array([[1,2,3,4,5], [6,7,8,9,10]])\n",
    "print(arr[:1,::2])"
   ]
  },
  {
   "cell_type": "code",
   "execution_count": 81,
   "id": "b07870b7",
   "metadata": {
    "ExecuteTime": {
     "end_time": "2023-02-20T18:34:21.004079Z",
     "start_time": "2023-02-20T18:34:20.984168Z"
    }
   },
   "outputs": [
    {
     "name": "stdout",
     "output_type": "stream",
     "text": [
      "[[ 1  3  5]\n",
      " [ 6  8 10]]\n"
     ]
    }
   ],
   "source": [
    "arr = np.array([[1,2,3,4,5], [6,7,8,9,10]])\n",
    "print(arr[:2,::2])"
   ]
  },
  {
   "cell_type": "markdown",
   "id": "3d72cb38",
   "metadata": {},
   "source": [
    "# Integer array indexing example"
   ]
  },
  {
   "cell_type": "code",
   "execution_count": 66,
   "id": "2a975a24",
   "metadata": {
    "ExecuteTime": {
     "end_time": "2023-02-20T18:21:29.012107Z",
     "start_time": "2023-02-20T18:21:29.005164Z"
    }
   },
   "outputs": [],
   "source": [
    "arr = np.array([[-1, 2, 0, 4],\n",
    "                [4, -0.5, 6, 0],\n",
    "                [2.6, 0, 7, 8],\n",
    "                [3, -7, 4, 2.0]])"
   ]
  },
  {
   "cell_type": "code",
   "execution_count": 67,
   "id": "eed9df03",
   "metadata": {
    "ExecuteTime": {
     "end_time": "2023-02-20T18:21:31.602992Z",
     "start_time": "2023-02-20T18:21:31.595970Z"
    }
   },
   "outputs": [
    {
     "name": "stdout",
     "output_type": "stream",
     "text": [
      "\n",
      "Elements at indices (0, 3), (1, 2), (2, 1),(3, 0):\n",
      " [4. 6. 0. 3.]\n"
     ]
    }
   ],
   "source": [
    "# Integer array indexing example\n",
    "temp = arr[[0, 1, 2, 3], [3, 2, 1, 0]]\n",
    "print (\"\\nElements at indices (0, 3), (1, 2), (2, 1),\"\n",
    "                                    \"(3, 0):\\n\", temp)"
   ]
  },
  {
   "cell_type": "markdown",
   "id": "f0de2b8b",
   "metadata": {},
   "source": [
    "# boolean array indexing example\n"
   ]
  },
  {
   "cell_type": "code",
   "execution_count": 24,
   "id": "fa99b566",
   "metadata": {
    "ExecuteTime": {
     "end_time": "2023-02-20T17:47:49.427634Z",
     "start_time": "2023-02-20T17:47:49.358044Z"
    }
   },
   "outputs": [
    {
     "name": "stdout",
     "output_type": "stream",
     "text": [
      "\n",
      "Elements greater than 0:\n",
      " [2.  4.  4.  6.  2.6 7.  8.  3.  4.  2. ]\n"
     ]
    }
   ],
   "source": [
    "cond = arr > 0 # cond is a boolean array\n",
    "temp = arr[cond]\n",
    "print (\"\\nElements greater than 0:\\n\", temp)"
   ]
  },
  {
   "cell_type": "markdown",
   "id": "0b01ba4b",
   "metadata": {
    "ExecuteTime": {
     "end_time": "2023-02-20T17:45:55.400177Z",
     "start_time": "2023-02-20T17:45:55.397145Z"
    }
   },
   "source": [
    "# basic operations on single array"
   ]
  },
  {
   "cell_type": "code",
   "execution_count": 25,
   "id": "f11ab09b",
   "metadata": {
    "ExecuteTime": {
     "end_time": "2023-02-20T17:47:49.522224Z",
     "start_time": "2023-02-20T17:47:49.427634Z"
    }
   },
   "outputs": [
    {
     "data": {
      "text/plain": [
       "array([2, 3, 6, 4])"
      ]
     },
     "execution_count": 25,
     "metadata": {},
     "output_type": "execute_result"
    }
   ],
   "source": [
    "a = np.array([1, 2, 5, 3])\n",
    "a+1"
   ]
  },
  {
   "cell_type": "code",
   "execution_count": 26,
   "id": "26105f3c",
   "metadata": {
    "ExecuteTime": {
     "end_time": "2023-02-20T17:47:49.591627Z",
     "start_time": "2023-02-20T17:47:49.525694Z"
    }
   },
   "outputs": [
    {
     "data": {
      "text/plain": [
       "array([0, 1, 4, 2])"
      ]
     },
     "execution_count": 26,
     "metadata": {},
     "output_type": "execute_result"
    }
   ],
   "source": [
    "a-1"
   ]
  },
  {
   "cell_type": "code",
   "execution_count": 27,
   "id": "54682c86",
   "metadata": {
    "ExecuteTime": {
     "end_time": "2023-02-20T17:47:49.691569Z",
     "start_time": "2023-02-20T17:47:49.594656Z"
    }
   },
   "outputs": [
    {
     "data": {
      "text/plain": [
       "array([10, 20, 50, 30])"
      ]
     },
     "execution_count": 27,
     "metadata": {},
     "output_type": "execute_result"
    }
   ],
   "source": [
    "a*10"
   ]
  },
  {
   "cell_type": "code",
   "execution_count": 28,
   "id": "40437607",
   "metadata": {
    "ExecuteTime": {
     "end_time": "2023-02-20T17:47:49.772258Z",
     "start_time": "2023-02-20T17:47:49.692899Z"
    }
   },
   "outputs": [
    {
     "data": {
      "text/plain": [
       "array([ 1,  4, 25,  9], dtype=int32)"
      ]
     },
     "execution_count": 28,
     "metadata": {},
     "output_type": "execute_result"
    }
   ],
   "source": [
    "a**2"
   ]
  },
  {
   "cell_type": "code",
   "execution_count": 29,
   "id": "c3cde585",
   "metadata": {
    "ExecuteTime": {
     "end_time": "2023-02-20T17:47:49.857429Z",
     "start_time": "2023-02-20T17:47:49.776256Z"
    }
   },
   "outputs": [],
   "source": [
    "a*=2"
   ]
  },
  {
   "cell_type": "code",
   "execution_count": 30,
   "id": "6d52f296",
   "metadata": {
    "ExecuteTime": {
     "end_time": "2023-02-20T17:47:49.968120Z",
     "start_time": "2023-02-20T17:47:49.863357Z"
    }
   },
   "outputs": [
    {
     "name": "stdout",
     "output_type": "stream",
     "text": [
      "[ 2  4 10  6]\n"
     ]
    }
   ],
   "source": [
    "print(a)"
   ]
  },
  {
   "cell_type": "markdown",
   "id": "990cd55f",
   "metadata": {},
   "source": [
    "# transpose of array"
   ]
  },
  {
   "cell_type": "code",
   "execution_count": 31,
   "id": "e284d965",
   "metadata": {
    "ExecuteTime": {
     "end_time": "2023-02-20T17:47:50.150440Z",
     "start_time": "2023-02-20T17:47:49.975087Z"
    }
   },
   "outputs": [
    {
     "data": {
      "text/plain": [
       "array([[1, 2, 3],\n",
       "       [3, 4, 5],\n",
       "       [9, 6, 0]])"
      ]
     },
     "execution_count": 31,
     "metadata": {},
     "output_type": "execute_result"
    }
   ],
   "source": [
    "a = np.array([[1, 2, 3], [3, 4, 5], [9, 6, 0]])\n",
    "a"
   ]
  },
  {
   "cell_type": "code",
   "execution_count": 32,
   "id": "7b4bea59",
   "metadata": {
    "ExecuteTime": {
     "end_time": "2023-02-20T17:47:50.238213Z",
     "start_time": "2023-02-20T17:47:50.151441Z"
    }
   },
   "outputs": [
    {
     "data": {
      "text/plain": [
       "array([[1, 3, 9],\n",
       "       [2, 4, 6],\n",
       "       [3, 5, 0]])"
      ]
     },
     "execution_count": 32,
     "metadata": {},
     "output_type": "execute_result"
    }
   ],
   "source": [
    "a.T"
   ]
  },
  {
   "cell_type": "markdown",
   "id": "3e766aa3",
   "metadata": {},
   "source": [
    "# unary operators in numpy"
   ]
  },
  {
   "cell_type": "code",
   "execution_count": 31,
   "id": "27086f96",
   "metadata": {
    "ExecuteTime": {
     "end_time": "2023-02-21T07:49:03.899966Z",
     "start_time": "2023-02-21T07:49:03.885432Z"
    }
   },
   "outputs": [
    {
     "data": {
      "text/plain": [
       "array([[1, 5, 6],\n",
       "       [4, 7, 2],\n",
       "       [3, 1, 9]])"
      ]
     },
     "execution_count": 31,
     "metadata": {},
     "output_type": "execute_result"
    }
   ],
   "source": [
    "arr = np.array([[1, 5, 6],\n",
    "                [4, 7, 2],\n",
    "                [3, 1, 9]])\n",
    "arr"
   ]
  },
  {
   "cell_type": "code",
   "execution_count": 34,
   "id": "c2e6e0ff",
   "metadata": {
    "ExecuteTime": {
     "end_time": "2023-02-20T17:47:50.423722Z",
     "start_time": "2023-02-20T17:47:50.340056Z"
    }
   },
   "outputs": [
    {
     "data": {
      "text/plain": [
       "9"
      ]
     },
     "execution_count": 34,
     "metadata": {},
     "output_type": "execute_result"
    }
   ],
   "source": [
    "arr.max()"
   ]
  },
  {
   "cell_type": "code",
   "execution_count": 35,
   "id": "5d7f35ff",
   "metadata": {
    "ExecuteTime": {
     "end_time": "2023-02-20T17:47:50.506544Z",
     "start_time": "2023-02-20T17:47:50.426678Z"
    }
   },
   "outputs": [
    {
     "data": {
      "text/plain": [
       "array([4, 7, 9])"
      ]
     },
     "execution_count": 35,
     "metadata": {},
     "output_type": "execute_result"
    }
   ],
   "source": [
    "arr.max(axis = 0)"
   ]
  },
  {
   "cell_type": "code",
   "execution_count": 36,
   "id": "3d481b93",
   "metadata": {
    "ExecuteTime": {
     "end_time": "2023-02-20T17:47:50.585027Z",
     "start_time": "2023-02-20T17:47:50.512527Z"
    }
   },
   "outputs": [
    {
     "data": {
      "text/plain": [
       "array([6, 7, 9])"
      ]
     },
     "execution_count": 36,
     "metadata": {},
     "output_type": "execute_result"
    }
   ],
   "source": [
    "arr.max(axis = 1)"
   ]
  },
  {
   "cell_type": "code",
   "execution_count": 32,
   "id": "e989030f",
   "metadata": {
    "ExecuteTime": {
     "end_time": "2023-02-21T07:49:15.435467Z",
     "start_time": "2023-02-21T07:49:15.422983Z"
    }
   },
   "outputs": [
    {
     "data": {
      "text/plain": [
       "1"
      ]
     },
     "execution_count": 32,
     "metadata": {},
     "output_type": "execute_result"
    }
   ],
   "source": [
    "arr.min()"
   ]
  },
  {
   "cell_type": "code",
   "execution_count": 33,
   "id": "7cb7596d",
   "metadata": {
    "ExecuteTime": {
     "end_time": "2023-02-21T07:49:32.985745Z",
     "start_time": "2023-02-21T07:49:32.972781Z"
    }
   },
   "outputs": [
    {
     "data": {
      "text/plain": [
       "array([1, 1, 2])"
      ]
     },
     "execution_count": 33,
     "metadata": {},
     "output_type": "execute_result"
    }
   ],
   "source": [
    "arr.min(axis = 0)"
   ]
  },
  {
   "cell_type": "code",
   "execution_count": 34,
   "id": "e1f84ca2",
   "metadata": {
    "ExecuteTime": {
     "end_time": "2023-02-21T07:49:55.404364Z",
     "start_time": "2023-02-21T07:49:55.390801Z"
    }
   },
   "outputs": [
    {
     "data": {
      "text/plain": [
       "array([1, 2, 1])"
      ]
     },
     "execution_count": 34,
     "metadata": {},
     "output_type": "execute_result"
    }
   ],
   "source": [
    "arr.min(axis = 1)"
   ]
  },
  {
   "cell_type": "code",
   "execution_count": 35,
   "id": "0d643b89",
   "metadata": {
    "ExecuteTime": {
     "end_time": "2023-02-21T07:57:06.686153Z",
     "start_time": "2023-02-21T07:57:06.565100Z"
    }
   },
   "outputs": [
    {
     "data": {
      "text/plain": [
       "4.222222222222222"
      ]
     },
     "execution_count": 35,
     "metadata": {},
     "output_type": "execute_result"
    }
   ],
   "source": [
    "arr.mean()"
   ]
  },
  {
   "cell_type": "code",
   "execution_count": 37,
   "id": "1d5351b6",
   "metadata": {
    "ExecuteTime": {
     "end_time": "2023-02-20T17:47:50.688817Z",
     "start_time": "2023-02-20T17:47:50.588974Z"
    }
   },
   "outputs": [
    {
     "data": {
      "text/plain": [
       "38"
      ]
     },
     "execution_count": 37,
     "metadata": {},
     "output_type": "execute_result"
    }
   ],
   "source": [
    "arr.sum()"
   ]
  },
  {
   "cell_type": "code",
   "execution_count": 54,
   "id": "3b399ee3",
   "metadata": {
    "ExecuteTime": {
     "end_time": "2023-02-21T08:23:02.148282Z",
     "start_time": "2023-02-21T08:23:02.133116Z"
    }
   },
   "outputs": [
    {
     "data": {
      "text/plain": [
       "array([[1, 5, 6],\n",
       "       [4, 7, 2],\n",
       "       [3, 1, 9]])"
      ]
     },
     "execution_count": 54,
     "metadata": {},
     "output_type": "execute_result"
    }
   ],
   "source": [
    "arr"
   ]
  },
  {
   "cell_type": "code",
   "execution_count": 55,
   "id": "8a1103d2",
   "metadata": {
    "ExecuteTime": {
     "end_time": "2023-02-21T08:23:05.369274Z",
     "start_time": "2023-02-21T08:23:05.358245Z"
    }
   },
   "outputs": [
    {
     "data": {
      "text/plain": [
       "array([1, 2, 3, 4, 5, 6, 7, 9])"
      ]
     },
     "execution_count": 55,
     "metadata": {},
     "output_type": "execute_result"
    }
   ],
   "source": [
    "np.unique(arr)"
   ]
  },
  {
   "cell_type": "code",
   "execution_count": 56,
   "id": "0e16d6ee",
   "metadata": {
    "ExecuteTime": {
     "end_time": "2023-02-21T08:23:26.055498Z",
     "start_time": "2023-02-21T08:23:26.033561Z"
    }
   },
   "outputs": [
    {
     "data": {
      "text/plain": [
       "4.0"
      ]
     },
     "execution_count": 56,
     "metadata": {},
     "output_type": "execute_result"
    }
   ],
   "source": [
    "np.median(arr)"
   ]
  },
  {
   "cell_type": "code",
   "execution_count": 59,
   "id": "668334bd",
   "metadata": {
    "ExecuteTime": {
     "end_time": "2023-02-21T08:25:11.103259Z",
     "start_time": "2023-02-21T08:25:11.079734Z"
    }
   },
   "outputs": [
    {
     "data": {
      "text/plain": [
       "array([0, 1, 1, 2, 2, 2, 4, 4, 4], dtype=int64)"
      ]
     },
     "execution_count": 59,
     "metadata": {},
     "output_type": "execute_result"
    }
   ],
   "source": [
    "a = np.array([-0.9, 0.5, 0.9, 1, 1.2, 1.4, 3.6, 4.7, 5.3])\n",
    "bins = np.array([0,1,2,3])\n",
    "np.digitize(a,bins)"
   ]
  },
  {
   "cell_type": "markdown",
   "id": "3af19efd",
   "metadata": {},
   "source": [
    "# cumulative sum along each row"
   ]
  },
  {
   "cell_type": "code",
   "execution_count": 39,
   "id": "6e8bde4e",
   "metadata": {
    "ExecuteTime": {
     "end_time": "2023-02-20T17:47:50.858750Z",
     "start_time": "2023-02-20T17:47:50.775316Z"
    }
   },
   "outputs": [
    {
     "data": {
      "text/plain": [
       "array([[ 1,  5,  6],\n",
       "       [ 5, 12,  8],\n",
       "       [ 8, 13, 17]], dtype=int32)"
      ]
     },
     "execution_count": 39,
     "metadata": {},
     "output_type": "execute_result"
    }
   ],
   "source": [
    "arr.cumsum(axis = 0)"
   ]
  },
  {
   "cell_type": "code",
   "execution_count": 40,
   "id": "0348d8de",
   "metadata": {
    "ExecuteTime": {
     "end_time": "2023-02-20T17:48:00.889669Z",
     "start_time": "2023-02-20T17:48:00.872894Z"
    }
   },
   "outputs": [
    {
     "data": {
      "text/plain": [
       "array([[ 1,  6, 12],\n",
       "       [ 4, 11, 13],\n",
       "       [ 3,  4, 13]], dtype=int32)"
      ]
     },
     "execution_count": 40,
     "metadata": {},
     "output_type": "execute_result"
    }
   ],
   "source": [
    "arr.cumsum(axis = 1)"
   ]
  },
  {
   "cell_type": "markdown",
   "id": "cdb0b82d",
   "metadata": {},
   "source": [
    "# binary operators in Numpy"
   ]
  },
  {
   "cell_type": "code",
   "execution_count": 41,
   "id": "97c3e0b1",
   "metadata": {
    "ExecuteTime": {
     "end_time": "2023-02-20T17:49:25.554232Z",
     "start_time": "2023-02-20T17:49:25.547248Z"
    }
   },
   "outputs": [],
   "source": [
    "a = np.array([[1, 2],\n",
    "            [3, 4]])\n",
    "b = np.array([[4, 3],\n",
    "            [2, 1]])"
   ]
  },
  {
   "cell_type": "code",
   "execution_count": 42,
   "id": "cb7b727a",
   "metadata": {
    "ExecuteTime": {
     "end_time": "2023-02-20T17:49:32.228603Z",
     "start_time": "2023-02-20T17:49:32.210686Z"
    }
   },
   "outputs": [
    {
     "data": {
      "text/plain": [
       "array([[5, 5],\n",
       "       [5, 5]])"
      ]
     },
     "execution_count": 42,
     "metadata": {},
     "output_type": "execute_result"
    }
   ],
   "source": [
    "a+b"
   ]
  },
  {
   "cell_type": "code",
   "execution_count": 43,
   "id": "087cf4d0",
   "metadata": {
    "ExecuteTime": {
     "end_time": "2023-02-20T17:49:47.379155Z",
     "start_time": "2023-02-20T17:49:47.365188Z"
    }
   },
   "outputs": [
    {
     "data": {
      "text/plain": [
       "array([[-3, -1],\n",
       "       [ 1,  3]])"
      ]
     },
     "execution_count": 43,
     "metadata": {},
     "output_type": "execute_result"
    }
   ],
   "source": [
    "a-b"
   ]
  },
  {
   "cell_type": "code",
   "execution_count": 44,
   "id": "a4cf1a3a",
   "metadata": {
    "ExecuteTime": {
     "end_time": "2023-02-20T17:49:59.400999Z",
     "start_time": "2023-02-20T17:49:59.390985Z"
    }
   },
   "outputs": [
    {
     "data": {
      "text/plain": [
       "array([[4, 6],\n",
       "       [6, 4]])"
      ]
     },
     "execution_count": 44,
     "metadata": {},
     "output_type": "execute_result"
    }
   ],
   "source": [
    "a*b"
   ]
  },
  {
   "cell_type": "code",
   "execution_count": 46,
   "id": "1ef72529",
   "metadata": {
    "ExecuteTime": {
     "end_time": "2023-02-20T18:00:30.507012Z",
     "start_time": "2023-02-20T18:00:30.490015Z"
    }
   },
   "outputs": [
    {
     "data": {
      "text/plain": [
       "array([[1, 2],\n",
       "       [3, 4]])"
      ]
     },
     "execution_count": 46,
     "metadata": {},
     "output_type": "execute_result"
    }
   ],
   "source": [
    "a"
   ]
  },
  {
   "cell_type": "code",
   "execution_count": 47,
   "id": "650f1757",
   "metadata": {
    "ExecuteTime": {
     "end_time": "2023-02-20T18:00:38.765137Z",
     "start_time": "2023-02-20T18:00:38.744201Z"
    }
   },
   "outputs": [
    {
     "data": {
      "text/plain": [
       "array([[4, 3],\n",
       "       [2, 1]])"
      ]
     },
     "execution_count": 47,
     "metadata": {},
     "output_type": "execute_result"
    }
   ],
   "source": [
    "b"
   ]
  },
  {
   "cell_type": "code",
   "execution_count": 45,
   "id": "f1c9bd49",
   "metadata": {
    "ExecuteTime": {
     "end_time": "2023-02-20T17:50:12.511045Z",
     "start_time": "2023-02-20T17:50:12.504065Z"
    }
   },
   "outputs": [
    {
     "data": {
      "text/plain": [
       "array([[ 8,  5],\n",
       "       [20, 13]])"
      ]
     },
     "execution_count": 45,
     "metadata": {},
     "output_type": "execute_result"
    }
   ],
   "source": [
    "a.dot(b) # 1*4+2*2  1*3+2*1\n",
    "         # 3*4+4*2  3*3+4*1"
   ]
  },
  {
   "cell_type": "code",
   "execution_count": 89,
   "id": "79923b49",
   "metadata": {
    "ExecuteTime": {
     "end_time": "2023-02-20T18:48:08.827571Z",
     "start_time": "2023-02-20T18:48:08.812612Z"
    }
   },
   "outputs": [
    {
     "data": {
      "text/plain": [
       "6"
      ]
     },
     "execution_count": 89,
     "metadata": {},
     "output_type": "execute_result"
    }
   ],
   "source": [
    "a.sum()"
   ]
  },
  {
   "cell_type": "markdown",
   "id": "641a8ac6",
   "metadata": {},
   "source": [
    "# Universal functions (ufunc)"
   ]
  },
  {
   "cell_type": "code",
   "execution_count": 48,
   "id": "14dc434c",
   "metadata": {
    "ExecuteTime": {
     "end_time": "2023-02-20T18:06:56.873500Z",
     "start_time": "2023-02-20T18:06:56.860535Z"
    }
   },
   "outputs": [
    {
     "data": {
      "text/plain": [
       "array([0.        , 1.57079633, 3.14159265])"
      ]
     },
     "execution_count": 48,
     "metadata": {},
     "output_type": "execute_result"
    }
   ],
   "source": [
    "# create an array of sine values\n",
    "a = np.array([0, np.pi/2, np.pi])\n",
    "a"
   ]
  },
  {
   "cell_type": "code",
   "execution_count": 49,
   "id": "8469ebd7",
   "metadata": {
    "ExecuteTime": {
     "end_time": "2023-02-20T18:07:20.642895Z",
     "start_time": "2023-02-20T18:07:20.622950Z"
    }
   },
   "outputs": [
    {
     "data": {
      "text/plain": [
       "array([0.0000000e+00, 1.0000000e+00, 1.2246468e-16])"
      ]
     },
     "execution_count": 49,
     "metadata": {},
     "output_type": "execute_result"
    }
   ],
   "source": [
    "np.sin(a)"
   ]
  },
  {
   "cell_type": "code",
   "execution_count": 50,
   "id": "4b5ce3dd",
   "metadata": {
    "ExecuteTime": {
     "end_time": "2023-02-20T18:07:31.562914Z",
     "start_time": "2023-02-20T18:07:31.557891Z"
    }
   },
   "outputs": [
    {
     "name": "stdout",
     "output_type": "stream",
     "text": [
      "Exponent of array elements: [ 1.          2.71828183  7.3890561  20.08553692]\n"
     ]
    }
   ],
   "source": [
    "# exponential values\n",
    "a = np.array([0, 1, 2, 3])\n",
    "print (\"Exponent of array elements:\", np.exp(a))"
   ]
  },
  {
   "cell_type": "code",
   "execution_count": 51,
   "id": "08cda5ca",
   "metadata": {
    "ExecuteTime": {
     "end_time": "2023-02-20T18:08:00.410287Z",
     "start_time": "2023-02-20T18:08:00.392336Z"
    }
   },
   "outputs": [
    {
     "data": {
      "text/plain": [
       "array([0.        , 1.        , 1.41421356, 1.73205081])"
      ]
     },
     "execution_count": 51,
     "metadata": {},
     "output_type": "execute_result"
    }
   ],
   "source": [
    "np.sqrt(a)"
   ]
  },
  {
   "cell_type": "markdown",
   "id": "47534c21",
   "metadata": {},
   "source": [
    "# Data Types"
   ]
  },
  {
   "cell_type": "code",
   "execution_count": 84,
   "id": "d11c417a",
   "metadata": {
    "ExecuteTime": {
     "end_time": "2023-02-20T18:40:33.857206Z",
     "start_time": "2023-02-20T18:40:33.842427Z"
    }
   },
   "outputs": [
    {
     "name": "stdout",
     "output_type": "stream",
     "text": [
      "[b'1' b'2' b'3' b'4']\n",
      "|S1\n"
     ]
    }
   ],
   "source": [
    "arr = np.array([1, 2, 3, 4], dtype='S')\n",
    "\n",
    "print(arr)\n",
    "print(arr.dtype)"
   ]
  },
  {
   "cell_type": "code",
   "execution_count": 85,
   "id": "572341a0",
   "metadata": {
    "ExecuteTime": {
     "end_time": "2023-02-20T18:40:47.713450Z",
     "start_time": "2023-02-20T18:40:47.694502Z"
    }
   },
   "outputs": [
    {
     "name": "stdout",
     "output_type": "stream",
     "text": [
      "<U6\n"
     ]
    }
   ],
   "source": [
    "arr = np.array(['apple', 'banana', 'cherry'])\n",
    "\n",
    "print(arr.dtype)"
   ]
  },
  {
   "cell_type": "code",
   "execution_count": 86,
   "id": "c18da53f",
   "metadata": {
    "ExecuteTime": {
     "end_time": "2023-02-20T18:41:12.270208Z",
     "start_time": "2023-02-20T18:41:12.261259Z"
    }
   },
   "outputs": [
    {
     "name": "stdout",
     "output_type": "stream",
     "text": [
      "[1 2 3 4]\n",
      "int32\n"
     ]
    }
   ],
   "source": [
    "arr = np.array([1, 2, 3, 4], dtype='i4')\n",
    "\n",
    "print(arr)\n",
    "print(arr.dtype)"
   ]
  },
  {
   "cell_type": "code",
   "execution_count": 87,
   "id": "3bbef8d1",
   "metadata": {
    "ExecuteTime": {
     "end_time": "2023-02-20T18:41:58.724699Z",
     "start_time": "2023-02-20T18:41:58.606304Z"
    }
   },
   "outputs": [
    {
     "name": "stdout",
     "output_type": "stream",
     "text": [
      "[1 2 3]\n",
      "int32\n"
     ]
    }
   ],
   "source": [
    "arr = np.array([1.1, 2.1, 3.1])\n",
    "\n",
    "newarr = arr.astype('i')\n",
    "\n",
    "print(newarr)\n",
    "print(newarr.dtype)"
   ]
  },
  {
   "cell_type": "code",
   "execution_count": 88,
   "id": "5dab586f",
   "metadata": {
    "ExecuteTime": {
     "end_time": "2023-02-20T18:44:52.673209Z",
     "start_time": "2023-02-20T18:44:52.665230Z"
    }
   },
   "outputs": [
    {
     "name": "stdout",
     "output_type": "stream",
     "text": [
      "[ True False  True]\n",
      "bool\n"
     ]
    }
   ],
   "source": [
    "arr = np.array([1, 0, 3])\n",
    "\n",
    "newarr = arr.astype(bool)\n",
    "\n",
    "print(newarr)\n",
    "print(newarr.dtype)"
   ]
  },
  {
   "cell_type": "code",
   "execution_count": 91,
   "id": "d74b62ed",
   "metadata": {
    "ExecuteTime": {
     "end_time": "2023-02-20T18:50:07.644092Z",
     "start_time": "2023-02-20T18:50:07.630127Z"
    }
   },
   "outputs": [
    {
     "name": "stdout",
     "output_type": "stream",
     "text": [
      "Integer Datatype: \n",
      "int32\n"
     ]
    }
   ],
   "source": [
    "x = np.array([1, 2])  \n",
    "print(\"Integer Datatype: \")\n",
    "print(x.dtype)"
   ]
  },
  {
   "cell_type": "code",
   "execution_count": 92,
   "id": "156efcba",
   "metadata": {
    "ExecuteTime": {
     "end_time": "2023-02-20T18:50:13.597497Z",
     "start_time": "2023-02-20T18:50:13.580608Z"
    }
   },
   "outputs": [
    {
     "name": "stdout",
     "output_type": "stream",
     "text": [
      "\n",
      "Float Datatype: \n",
      "float64\n"
     ]
    }
   ],
   "source": [
    "x = np.array([1.0, 2.0]) \n",
    "print(\"\\nFloat Datatype: \")\n",
    "print(x.dtype)"
   ]
  },
  {
   "cell_type": "code",
   "execution_count": 93,
   "id": "517070eb",
   "metadata": {
    "ExecuteTime": {
     "end_time": "2023-02-20T18:50:18.572169Z",
     "start_time": "2023-02-20T18:50:18.561158Z"
    }
   },
   "outputs": [
    {
     "name": "stdout",
     "output_type": "stream",
     "text": [
      "\n",
      "Forcing a Datatype: \n",
      "int64\n"
     ]
    }
   ],
   "source": [
    "x = np.array([1, 2], dtype = np.int64)   \n",
    "print(\"\\nForcing a Datatype: \")\n",
    "print(x.dtype)"
   ]
  },
  {
   "cell_type": "code",
   "execution_count": 94,
   "id": "bef42ff2",
   "metadata": {
    "ExecuteTime": {
     "end_time": "2023-02-20T18:50:52.388859Z",
     "start_time": "2023-02-20T18:50:52.369499Z"
    }
   },
   "outputs": [
    {
     "name": "stdout",
     "output_type": "stream",
     "text": [
      "Addition of Two Arrays: \n",
      "[[ 7. 13.]\n",
      " [ 4. 14.]]\n"
     ]
    }
   ],
   "source": [
    "arr1 = np.array([[4, 7], [2, 6]], \n",
    "                 dtype = np.float64)\n",
    "                  \n",
    "# Second Array\n",
    "arr2 = np.array([[3, 6], [2, 8]], \n",
    "                 dtype = np.float64) \n",
    " \n",
    "# Addition of two Arrays\n",
    "Sum = np.add(arr1, arr2)\n",
    "print(\"Addition of Two Arrays: \")\n",
    "print(Sum)"
   ]
  },
  {
   "cell_type": "code",
   "execution_count": 95,
   "id": "f19e4e15",
   "metadata": {
    "ExecuteTime": {
     "end_time": "2023-02-20T18:52:07.009529Z",
     "start_time": "2023-02-20T18:52:06.990540Z"
    }
   },
   "outputs": [
    {
     "name": "stdout",
     "output_type": "stream",
     "text": [
      "\n",
      "Addition of Array elements: \n",
      "19.0\n"
     ]
    }
   ],
   "source": [
    "Sum1 = np.sum(arr1)\n",
    "print(\"\\nAddition of Array elements: \")\n",
    "print(Sum1)"
   ]
  },
  {
   "cell_type": "code",
   "execution_count": 96,
   "id": "60504d6e",
   "metadata": {
    "ExecuteTime": {
     "end_time": "2023-02-20T18:52:45.435763Z",
     "start_time": "2023-02-20T18:52:45.422757Z"
    }
   },
   "outputs": [
    {
     "name": "stdout",
     "output_type": "stream",
     "text": [
      "\n",
      "Square root of Array1 elements: \n",
      "[[2.         2.64575131]\n",
      " [1.41421356 2.44948974]]\n"
     ]
    }
   ],
   "source": [
    "Sqrt = np.sqrt(arr1)\n",
    "print(\"\\nSquare root of Array1 elements: \")\n",
    "print(Sqrt)\n"
   ]
  },
  {
   "cell_type": "code",
   "execution_count": 98,
   "id": "17140753",
   "metadata": {
    "ExecuteTime": {
     "end_time": "2023-02-20T18:56:08.166100Z",
     "start_time": "2023-02-20T18:56:08.153097Z"
    }
   },
   "outputs": [],
   "source": [
    "c = np.identity(2, dtype = float)"
   ]
  },
  {
   "cell_type": "code",
   "execution_count": 99,
   "id": "da30f393",
   "metadata": {
    "ExecuteTime": {
     "end_time": "2023-02-20T18:56:14.346643Z",
     "start_time": "2023-02-20T18:56:14.332013Z"
    }
   },
   "outputs": [
    {
     "data": {
      "text/plain": [
       "array([[1., 0.],\n",
       "       [0., 1.]])"
      ]
     },
     "execution_count": 99,
     "metadata": {},
     "output_type": "execute_result"
    }
   ],
   "source": [
    "c"
   ]
  },
  {
   "cell_type": "code",
   "execution_count": 100,
   "id": "af1778c4",
   "metadata": {
    "ExecuteTime": {
     "end_time": "2023-02-20T18:56:40.243179Z",
     "start_time": "2023-02-20T18:56:40.236201Z"
    }
   },
   "outputs": [],
   "source": [
    "c = np.identity(4, dtype = float)"
   ]
  },
  {
   "cell_type": "code",
   "execution_count": 101,
   "id": "0274d439",
   "metadata": {
    "ExecuteTime": {
     "end_time": "2023-02-20T18:56:43.040811Z",
     "start_time": "2023-02-20T18:56:43.021822Z"
    }
   },
   "outputs": [
    {
     "data": {
      "text/plain": [
       "array([[1., 0., 0., 0.],\n",
       "       [0., 1., 0., 0.],\n",
       "       [0., 0., 1., 0.],\n",
       "       [0., 0., 0., 1.]])"
      ]
     },
     "execution_count": 101,
     "metadata": {},
     "output_type": "execute_result"
    }
   ],
   "source": [
    "c"
   ]
  },
  {
   "cell_type": "markdown",
   "id": "24f52290",
   "metadata": {},
   "source": [
    "# Expand"
   ]
  },
  {
   "cell_type": "code",
   "execution_count": 62,
   "id": "1f7ccf6b",
   "metadata": {
    "ExecuteTime": {
     "end_time": "2023-02-21T08:27:44.203355Z",
     "start_time": "2023-02-21T08:27:44.187027Z"
    }
   },
   "outputs": [
    {
     "data": {
      "text/plain": [
       "array([[ 8, 14,  1,  8, 11,  4,  9,  4,  1, 13, 13, 11]])"
      ]
     },
     "execution_count": 62,
     "metadata": {},
     "output_type": "execute_result"
    }
   ],
   "source": [
    "arr = np.array([ 8, 14,  1,  8, 11,  4,  9,  4, 1, 13, 13, 11])\n",
    "np.expand_dims(arr,axis=0)"
   ]
  },
  {
   "cell_type": "code",
   "execution_count": 63,
   "id": "4ea4a2ef",
   "metadata": {
    "ExecuteTime": {
     "end_time": "2023-02-21T08:27:47.314496Z",
     "start_time": "2023-02-21T08:27:47.304125Z"
    }
   },
   "outputs": [
    {
     "data": {
      "text/plain": [
       "array([[ 8],\n",
       "       [14],\n",
       "       [ 1],\n",
       "       [ 8],\n",
       "       [11],\n",
       "       [ 4],\n",
       "       [ 9],\n",
       "       [ 4],\n",
       "       [ 1],\n",
       "       [13],\n",
       "       [13],\n",
       "       [11]])"
      ]
     },
     "execution_count": 63,
     "metadata": {},
     "output_type": "execute_result"
    }
   ],
   "source": [
    "np.expand_dims(arr,axis=1)"
   ]
  },
  {
   "cell_type": "markdown",
   "id": "d568799d",
   "metadata": {},
   "source": [
    "# Squeeze"
   ]
  },
  {
   "cell_type": "code",
   "execution_count": 66,
   "id": "7decb5a5",
   "metadata": {
    "ExecuteTime": {
     "end_time": "2023-02-21T08:29:52.661777Z",
     "start_time": "2023-02-21T08:29:52.646068Z"
    }
   },
   "outputs": [
    {
     "data": {
      "text/plain": [
       "array([[1, 5, 6],\n",
       "       [4, 7, 2],\n",
       "       [3, 1, 9]])"
      ]
     },
     "execution_count": 66,
     "metadata": {},
     "output_type": "execute_result"
    }
   ],
   "source": [
    "arr = np.array([[1, 5, 6],\n",
    "                [4, 7, 2],\n",
    "                [3, 1, 9]])\n",
    "np.squeeze(arr)"
   ]
  },
  {
   "cell_type": "code",
   "execution_count": null,
   "id": "dc118795",
   "metadata": {
    "ExecuteTime": {
     "end_time": "2023-02-21T08:29:44.347636Z",
     "start_time": "2023-02-21T08:29:44.334528Z"
    }
   },
   "outputs": [],
   "source": [
    "arr = np.array([[ 8],[14],[ 1],[ 8],[11],[ 4],[ 9],[ 4],[ 1],[13],[13],[11]])\n",
    "np.squeeze(arr)"
   ]
  },
  {
   "cell_type": "markdown",
   "id": "7f8657a3",
   "metadata": {},
   "source": [
    "# Count Non-Zero"
   ]
  },
  {
   "cell_type": "code",
   "execution_count": 67,
   "id": "ecc80182",
   "metadata": {
    "ExecuteTime": {
     "end_time": "2023-02-21T08:30:41.215593Z",
     "start_time": "2023-02-21T08:30:41.200064Z"
    }
   },
   "outputs": [
    {
     "data": {
      "text/plain": [
       "3"
      ]
     },
     "execution_count": 67,
     "metadata": {},
     "output_type": "execute_result"
    }
   ],
   "source": [
    "a = np.array([0,0,1,1,1,0])\n",
    "np.count_nonzero(a)"
   ]
  },
  {
   "cell_type": "markdown",
   "id": "396771c6",
   "metadata": {},
   "source": [
    "# argwhere"
   ]
  },
  {
   "cell_type": "code",
   "execution_count": 71,
   "id": "5ab72d4a",
   "metadata": {
    "ExecuteTime": {
     "end_time": "2023-02-21T08:36:21.307191Z",
     "start_time": "2023-02-21T08:36:21.291442Z"
    }
   },
   "outputs": [
    {
     "data": {
      "text/plain": [
       "array([[0, 1],\n",
       "       [0, 2],\n",
       "       [1, 0],\n",
       "       [1, 1],\n",
       "       [2, 0],\n",
       "       [2, 2]], dtype=int64)"
      ]
     },
     "execution_count": 71,
     "metadata": {},
     "output_type": "execute_result"
    }
   ],
   "source": [
    "a = np.array([[1, 5, 6],\n",
    "                [4, 7, 2],\n",
    "                [3, 1, 9]])\n",
    "np.argwhere(a>=3)"
   ]
  },
  {
   "cell_type": "code",
   "execution_count": 72,
   "id": "133b3c10",
   "metadata": {
    "ExecuteTime": {
     "end_time": "2023-02-21T08:39:23.630308Z",
     "start_time": "2023-02-21T08:39:23.617095Z"
    }
   },
   "outputs": [
    {
     "name": "stdout",
     "output_type": "stream",
     "text": [
      "INPUT ARRAY : \n",
      " [[11  9  9 15]\n",
      " [ 0  3 11  0]\n",
      " [ 7 13 12  9]\n",
      " [13  7 11 13]]\n",
      "\n",
      "Max element :  3\n"
     ]
    }
   ],
   "source": [
    "array =  np.random.randint(16, size=(4, 4))\n",
    "print(\"INPUT ARRAY : \\n\", array)\n",
    "print(\"\\nMax element : \", np.argmax(array))"
   ]
  },
  {
   "cell_type": "code",
   "execution_count": 74,
   "id": "96a20e67",
   "metadata": {
    "ExecuteTime": {
     "end_time": "2023-02-21T08:41:02.766610Z",
     "start_time": "2023-02-21T08:41:02.753405Z"
    }
   },
   "outputs": [
    {
     "name": "stdout",
     "output_type": "stream",
     "text": [
      "\n",
      "Indices of Max element :  [3 2 2 0]\n"
     ]
    }
   ],
   "source": [
    "print(\"\\nIndices of Max element : \", np.argmax(array, axis = 0))"
   ]
  },
  {
   "cell_type": "code",
   "execution_count": 76,
   "id": "f2671d54",
   "metadata": {
    "ExecuteTime": {
     "end_time": "2023-02-21T08:41:23.693092Z",
     "start_time": "2023-02-21T08:41:23.672344Z"
    }
   },
   "outputs": [
    {
     "name": "stdout",
     "output_type": "stream",
     "text": [
      "\n",
      "Indices of Max element :  [3 2 1 0]\n"
     ]
    }
   ],
   "source": [
    "print(\"\\nIndices of Max element : \", np.argmax(array, axis = 1))"
   ]
  },
  {
   "cell_type": "code",
   "execution_count": 78,
   "id": "8cab3fc2",
   "metadata": {
    "ExecuteTime": {
     "end_time": "2023-02-21T08:42:17.989668Z",
     "start_time": "2023-02-21T08:42:17.979858Z"
    }
   },
   "outputs": [
    {
     "name": "stdout",
     "output_type": "stream",
     "text": [
      "\n",
      "Min element :  4\n"
     ]
    }
   ],
   "source": [
    "print(\"\\nMin element : \", np.argmin(array))"
   ]
  },
  {
   "cell_type": "code",
   "execution_count": 82,
   "id": "dab5c39b",
   "metadata": {
    "ExecuteTime": {
     "end_time": "2023-02-21T08:45:45.763302Z",
     "start_time": "2023-02-21T08:45:45.741867Z"
    }
   },
   "outputs": [
    {
     "name": "stdout",
     "output_type": "stream",
     "text": [
      "\n",
      "Indices of Min element :  [1 1 0 1]\n"
     ]
    }
   ],
   "source": [
    "print(\"\\nIndices of Min element : \", np.argmin(array, axis = 0))"
   ]
  },
  {
   "cell_type": "code",
   "execution_count": 81,
   "id": "21f12543",
   "metadata": {
    "ExecuteTime": {
     "end_time": "2023-02-21T08:45:11.127009Z",
     "start_time": "2023-02-21T08:45:11.104432Z"
    }
   },
   "outputs": [
    {
     "name": "stdout",
     "output_type": "stream",
     "text": [
      "\n",
      "Indices of Min element :  [1 0 0 1]\n"
     ]
    }
   ],
   "source": [
    "print(\"\\nIndices of Min element : \", np.argmin(array, axis = 1))"
   ]
  },
  {
   "cell_type": "code",
   "execution_count": 83,
   "id": "1dd7db41",
   "metadata": {
    "ExecuteTime": {
     "end_time": "2023-02-21T08:49:04.421474Z",
     "start_time": "2023-02-21T08:49:04.388149Z"
    }
   },
   "outputs": [
    {
     "data": {
      "text/plain": [
       "array([[11,  9,  9, 15],\n",
       "       [ 0,  3, 11,  0],\n",
       "       [ 7, 13, 12,  9],\n",
       "       [13,  7, 11, 13]])"
      ]
     },
     "execution_count": 83,
     "metadata": {},
     "output_type": "execute_result"
    }
   ],
   "source": [
    "np.abs(array)"
   ]
  },
  {
   "cell_type": "code",
   "execution_count": 84,
   "id": "df81203e",
   "metadata": {
    "ExecuteTime": {
     "end_time": "2023-02-21T08:49:25.403822Z",
     "start_time": "2023-02-21T08:49:25.384224Z"
    }
   },
   "outputs": [
    {
     "data": {
      "text/plain": [
       "array([[1, 3, 4],\n",
       "       [2, 4, 3]])"
      ]
     },
     "execution_count": 84,
     "metadata": {},
     "output_type": "execute_result"
    }
   ],
   "source": [
    "A = np.array([[1,-3,4],[-2,-4,3]])\n",
    "np.abs(A)"
   ]
  },
  {
   "cell_type": "code",
   "execution_count": 87,
   "id": "1be92803",
   "metadata": {
    "ExecuteTime": {
     "end_time": "2023-02-21T08:50:19.315254Z",
     "start_time": "2023-02-21T08:50:19.303131Z"
    }
   },
   "outputs": [
    {
     "data": {
      "text/plain": [
       "array([[ 1, -3,  4],\n",
       "       [-2, -4,  3]])"
      ]
     },
     "execution_count": 87,
     "metadata": {},
     "output_type": "execute_result"
    }
   ],
   "source": [
    "np.round(A,decimals=1)"
   ]
  },
  {
   "cell_type": "code",
   "execution_count": 88,
   "id": "e8ed6baa",
   "metadata": {
    "ExecuteTime": {
     "end_time": "2023-02-21T08:50:55.830250Z",
     "start_time": "2023-02-21T08:50:55.817115Z"
    }
   },
   "outputs": [
    {
     "data": {
      "text/plain": [
       "array([0, 1, 0, 0, 5, 5, 5, 2, 3])"
      ]
     },
     "execution_count": 88,
     "metadata": {},
     "output_type": "execute_result"
    }
   ],
   "source": [
    "arr = np.array([0,1,-3,-4,5,6,7,2,3])\n",
    "arr.clip(0,5)"
   ]
  },
  {
   "cell_type": "markdown",
   "id": "050c3576",
   "metadata": {},
   "source": [
    "# Clip\n",
    "#### It is used to keep the values of an array within a range."
   ]
  },
  {
   "cell_type": "code",
   "execution_count": 89,
   "id": "acb1d443",
   "metadata": {
    "ExecuteTime": {
     "end_time": "2023-02-21T08:51:10.132258Z",
     "start_time": "2023-02-21T08:51:10.115583Z"
    }
   },
   "outputs": [
    {
     "data": {
      "text/plain": [
       "array([0, 1, 0, 0, 2, 2, 2, 2, 2])"
      ]
     },
     "execution_count": 89,
     "metadata": {},
     "output_type": "execute_result"
    }
   ],
   "source": [
    "arr.clip(0,2)"
   ]
  },
  {
   "cell_type": "code",
   "execution_count": 90,
   "id": "e35f96ab",
   "metadata": {
    "ExecuteTime": {
     "end_time": "2023-02-21T08:51:33.459092Z",
     "start_time": "2023-02-21T08:51:33.449802Z"
    }
   },
   "outputs": [
    {
     "data": {
      "text/plain": [
       "array([3, 3, 3, 3, 5, 5, 5, 3, 3])"
      ]
     },
     "execution_count": 90,
     "metadata": {},
     "output_type": "execute_result"
    }
   ],
   "source": [
    "arr.clip(3,5)"
   ]
  },
  {
   "cell_type": "code",
   "execution_count": 91,
   "id": "ca1bc9ce",
   "metadata": {
    "ExecuteTime": {
     "end_time": "2023-02-21T08:52:12.538102Z",
     "start_time": "2023-02-21T08:52:12.519319Z"
    }
   },
   "outputs": [
    {
     "data": {
      "text/plain": [
       "array([[ 0,  1,  2],\n",
       "       [ 3,  4,  5],\n",
       "       [ 6,  7,  8],\n",
       "       [ 9, 10, 11]])"
      ]
     },
     "execution_count": 91,
     "metadata": {},
     "output_type": "execute_result"
    }
   ],
   "source": [
    "a = np.arange(12).reshape(4,3)\n",
    "a"
   ]
  },
  {
   "cell_type": "code",
   "execution_count": 94,
   "id": "7b9361f7",
   "metadata": {
    "ExecuteTime": {
     "end_time": "2023-02-21T08:54:29.716809Z",
     "start_time": "2023-02-21T08:54:29.692648Z"
    }
   },
   "outputs": [
    {
     "data": {
      "text/plain": [
       "(array([2, 2, 2, 3, 3, 3], dtype=int64),\n",
       " array([0, 1, 2, 0, 1, 2], dtype=int64))"
      ]
     },
     "execution_count": 94,
     "metadata": {},
     "output_type": "execute_result"
    }
   ],
   "source": [
    "np.where(a>5)\n",
    "\n",
    "# [2][0] ᴇʟᴇᴍᴇɴᴛ (2ɴꜱ ʀᴏᴡ 0ᴛʜ ᴄᴏʟᴜᴍɴ) 6 > 5, ʀᴇᴛᴜʀɴ\n",
    "# [2][1] ᴇʟᴇᴍᴇɴᴛ (2ɴᴅ ʀᴏᴡ 1ꜱᴛ ᴄᴏʟᴜᴍɴ) 7 > 5, ʀᴇᴛᴜʀɴ\n",
    "# [3][2] ᴇʟᴇᴍᴇɴᴛ (3ᴅ ʀᴏᴡ 2ɴᴅ ᴄᴏʟᴜᴍɴ) 11 > 5, ʀᴇᴛᴜʀɴ\n"
   ]
  },
  {
   "cell_type": "code",
   "execution_count": 95,
   "id": "25284330",
   "metadata": {
    "ExecuteTime": {
     "end_time": "2023-02-21T08:54:38.965878Z",
     "start_time": "2023-02-21T08:54:38.956604Z"
    }
   },
   "outputs": [
    {
     "data": {
      "text/plain": [
       "array([ 6,  7,  8,  9, 10, 11])"
      ]
     },
     "execution_count": 95,
     "metadata": {},
     "output_type": "execute_result"
    }
   ],
   "source": [
    "a[np.where(a>5)]"
   ]
  },
  {
   "cell_type": "markdown",
   "id": "12835e5f",
   "metadata": {},
   "source": [
    "# Put\n",
    "#### Replaces specified elements of an array with given values.\n",
    "\n",
    "\n",
    "▪▶ Important params,\n",
    "a: array,\n",
    "ind: indices to be replaced.,\n",
    "v: values to place."
   ]
  },
  {
   "cell_type": "code",
   "execution_count": 96,
   "id": "0250b857",
   "metadata": {
    "ExecuteTime": {
     "end_time": "2023-02-21T08:56:52.489221Z",
     "start_time": "2023-02-21T08:56:52.473588Z"
    }
   },
   "outputs": [
    {
     "data": {
      "text/plain": [
       "array([1, 2, 3, 4, 5, 6])"
      ]
     },
     "execution_count": 96,
     "metadata": {},
     "output_type": "execute_result"
    }
   ],
   "source": [
    "arr = np.array([1,2,3,4,5,6])\n",
    "arr"
   ]
  },
  {
   "cell_type": "code",
   "execution_count": 97,
   "id": "52ecb1ab",
   "metadata": {
    "ExecuteTime": {
     "end_time": "2023-02-21T08:57:00.865782Z",
     "start_time": "2023-02-21T08:57:00.846482Z"
    }
   },
   "outputs": [
    {
     "data": {
      "text/plain": [
       "array([1, 6, 7, 4, 5, 6])"
      ]
     },
     "execution_count": 97,
     "metadata": {},
     "output_type": "execute_result"
    }
   ],
   "source": [
    "np.put(arr,[1,2],[6,7])\n",
    "arr"
   ]
  },
  {
   "cell_type": "code",
   "execution_count": 98,
   "id": "77d04af3",
   "metadata": {
    "ExecuteTime": {
     "end_time": "2023-02-21T08:57:20.396042Z",
     "start_time": "2023-02-21T08:57:20.377870Z"
    }
   },
   "outputs": [],
   "source": [
    "arr1 = np.array([1,2,3])\n",
    "arr2 = np.array([4,5,6])"
   ]
  },
  {
   "cell_type": "code",
   "execution_count": 99,
   "id": "985187f1",
   "metadata": {
    "ExecuteTime": {
     "end_time": "2023-02-21T08:57:30.527970Z",
     "start_time": "2023-02-21T08:57:30.509422Z"
    }
   },
   "outputs": [
    {
     "data": {
      "text/plain": [
       "array([1, 2, 3])"
      ]
     },
     "execution_count": 99,
     "metadata": {},
     "output_type": "execute_result"
    }
   ],
   "source": [
    "arr1"
   ]
  },
  {
   "cell_type": "code",
   "execution_count": 100,
   "id": "93859890",
   "metadata": {
    "ExecuteTime": {
     "end_time": "2023-02-21T08:57:35.047479Z",
     "start_time": "2023-02-21T08:57:35.031805Z"
    }
   },
   "outputs": [
    {
     "data": {
      "text/plain": [
       "array([4, 5, 6])"
      ]
     },
     "execution_count": 100,
     "metadata": {},
     "output_type": "execute_result"
    }
   ],
   "source": [
    "arr2"
   ]
  },
  {
   "cell_type": "code",
   "execution_count": 106,
   "id": "9eb5f775",
   "metadata": {
    "ExecuteTime": {
     "end_time": "2023-02-21T08:58:53.827474Z",
     "start_time": "2023-02-21T08:58:53.818373Z"
    }
   },
   "outputs": [],
   "source": [
    "np.copyto(arr2,arr1)"
   ]
  },
  {
   "cell_type": "code",
   "execution_count": 107,
   "id": "ab5e6718",
   "metadata": {
    "ExecuteTime": {
     "end_time": "2023-02-21T08:58:56.683321Z",
     "start_time": "2023-02-21T08:58:56.670312Z"
    }
   },
   "outputs": [
    {
     "name": "stdout",
     "output_type": "stream",
     "text": [
      "After arr1 [4 5 6]\n",
      "After arr2 [4 5 6]\n"
     ]
    }
   ],
   "source": [
    "print(\"After arr1\",arr1)\n",
    "print(\"After arr2\",arr2)"
   ]
  },
  {
   "cell_type": "code",
   "execution_count": 108,
   "id": "cb78c420",
   "metadata": {
    "ExecuteTime": {
     "end_time": "2023-02-21T08:59:22.772719Z",
     "start_time": "2023-02-21T08:59:22.752997Z"
    }
   },
   "outputs": [],
   "source": [
    "ar1 = np.array([1,2,3,4,5,6])\n",
    "ar2 = np.array([3,4,5,8,9,1])"
   ]
  },
  {
   "cell_type": "code",
   "execution_count": 109,
   "id": "a9837a93",
   "metadata": {
    "ExecuteTime": {
     "end_time": "2023-02-21T08:59:29.293040Z",
     "start_time": "2023-02-21T08:59:29.277844Z"
    }
   },
   "outputs": [
    {
     "data": {
      "text/plain": [
       "array([1, 3, 4, 5])"
      ]
     },
     "execution_count": 109,
     "metadata": {},
     "output_type": "execute_result"
    }
   ],
   "source": [
    "np.intersect1d(ar1,ar2)"
   ]
  },
  {
   "cell_type": "code",
   "execution_count": 113,
   "id": "98ab0c4d",
   "metadata": {
    "ExecuteTime": {
     "end_time": "2023-02-21T09:01:23.435591Z",
     "start_time": "2023-02-21T09:01:23.412004Z"
    }
   },
   "outputs": [
    {
     "data": {
      "text/plain": [
       "array([1, 2, 3, 4, 5, 6, 7])"
      ]
     },
     "execution_count": 113,
     "metadata": {},
     "output_type": "execute_result"
    }
   ],
   "source": [
    "ar3 = np.array([1,1,2,3,4,4,5,6,6,7])\n",
    "np.unique(ar3)"
   ]
  },
  {
   "cell_type": "code",
   "execution_count": 114,
   "id": "301ac14f",
   "metadata": {
    "ExecuteTime": {
     "end_time": "2023-02-21T09:01:37.786125Z",
     "start_time": "2023-02-21T09:01:37.762985Z"
    }
   },
   "outputs": [
    {
     "data": {
      "text/plain": [
       "array([1, 3, 4])"
      ]
     },
     "execution_count": 114,
     "metadata": {},
     "output_type": "execute_result"
    }
   ],
   "source": [
    "a = np.array([1, 7, 3, 2, 4, 1])\n",
    "b = np.array([9, 2, 5, 6, 7, 8])\n",
    "np.setdiff1d(a, b)"
   ]
  },
  {
   "cell_type": "markdown",
   "id": "54d556d4",
   "metadata": {},
   "source": [
    "# setxor1d\n",
    "### Extracts Unique Elements From Both Arrays\n",
    "#### setxor1dfunction will return all the unique values from both arrays in sorted order."
   ]
  },
  {
   "cell_type": "code",
   "execution_count": 115,
   "id": "592548c4",
   "metadata": {
    "ExecuteTime": {
     "end_time": "2023-02-21T09:03:15.678339Z",
     "start_time": "2023-02-21T09:03:15.666085Z"
    }
   },
   "outputs": [
    {
     "data": {
      "text/plain": [
       "array([ 2,  3,  6,  9, 36])"
      ]
     },
     "execution_count": 115,
     "metadata": {},
     "output_type": "execute_result"
    }
   ],
   "source": [
    "a = np.array([1, 2, 3, 4, 6])\n",
    "b = np.array([1, 4, 9, 4, 36])\n",
    "np.setxor1d(a,b)"
   ]
  },
  {
   "cell_type": "code",
   "execution_count": 116,
   "id": "4cf96d19",
   "metadata": {
    "ExecuteTime": {
     "end_time": "2023-02-21T09:03:33.897245Z",
     "start_time": "2023-02-21T09:03:33.881649Z"
    }
   },
   "outputs": [
    {
     "data": {
      "text/plain": [
       "array([ 1,  2,  3,  4,  6,  9, 36])"
      ]
     },
     "execution_count": 116,
     "metadata": {},
     "output_type": "execute_result"
    }
   ],
   "source": [
    "np.union1d(a,b)"
   ]
  },
  {
   "cell_type": "markdown",
   "id": "8109d40f",
   "metadata": {},
   "source": [
    "# Splitting\n",
    "# Horizontal Split"
   ]
  },
  {
   "cell_type": "code",
   "execution_count": 117,
   "id": "cdd1cedf",
   "metadata": {
    "ExecuteTime": {
     "end_time": "2023-02-21T09:04:31.528134Z",
     "start_time": "2023-02-21T09:04:31.501683Z"
    }
   },
   "outputs": [
    {
     "data": {
      "text/plain": [
       "[array([[3, 4],\n",
       "        [6, 7]]),\n",
       " array([[5, 2],\n",
       "        [2, 6]])]"
      ]
     },
     "execution_count": 117,
     "metadata": {},
     "output_type": "execute_result"
    }
   ],
   "source": [
    "A = np.array([[3,4,5,2],[6,7,2,6]])\n",
    "np.hsplit(A,2)"
   ]
  },
  {
   "cell_type": "code",
   "execution_count": 118,
   "id": "4b082457",
   "metadata": {
    "ExecuteTime": {
     "end_time": "2023-02-21T09:04:57.136919Z",
     "start_time": "2023-02-21T09:04:57.123780Z"
    }
   },
   "outputs": [
    {
     "data": {
      "text/plain": [
       "[array([[3],\n",
       "        [6]]),\n",
       " array([[4],\n",
       "        [7]]),\n",
       " array([[5],\n",
       "        [2]]),\n",
       " array([[2],\n",
       "        [6]])]"
      ]
     },
     "execution_count": 118,
     "metadata": {},
     "output_type": "execute_result"
    }
   ],
   "source": [
    "np.hsplit(A,4)"
   ]
  },
  {
   "cell_type": "markdown",
   "id": "993b8da9",
   "metadata": {},
   "source": [
    "# Vertical Split"
   ]
  },
  {
   "cell_type": "code",
   "execution_count": 124,
   "id": "2727385d",
   "metadata": {
    "ExecuteTime": {
     "end_time": "2023-02-21T09:07:35.084702Z",
     "start_time": "2023-02-21T09:07:35.073244Z"
    }
   },
   "outputs": [
    {
     "name": "stdout",
     "output_type": "stream",
     "text": [
      "[array([[3, 4, 5, 2]]), array([[6, 7, 2, 6]])]\n"
     ]
    }
   ],
   "source": [
    "n = np.vsplit(A,2)\n",
    "print(n)"
   ]
  },
  {
   "cell_type": "code",
   "execution_count": 121,
   "id": "c309df14",
   "metadata": {
    "ExecuteTime": {
     "end_time": "2023-02-21T09:06:30.317182Z",
     "start_time": "2023-02-21T09:06:30.306718Z"
    }
   },
   "outputs": [
    {
     "data": {
      "text/plain": [
       "[array([[3, 4, 5, 2],\n",
       "        [6, 7, 2, 6]])]"
      ]
     },
     "execution_count": 121,
     "metadata": {},
     "output_type": "execute_result"
    }
   ],
   "source": [
    "np.vsplit(A,1)"
   ]
  },
  {
   "cell_type": "markdown",
   "id": "06edcb5c",
   "metadata": {},
   "source": [
    "# Stacking\n",
    "# Horizontal Stacking"
   ]
  },
  {
   "cell_type": "code",
   "execution_count": 125,
   "id": "e4e60cae",
   "metadata": {
    "ExecuteTime": {
     "end_time": "2023-02-21T09:08:06.079578Z",
     "start_time": "2023-02-21T09:08:06.054426Z"
    }
   },
   "outputs": [
    {
     "data": {
      "text/plain": [
       "array([ 1,  2,  3,  4,  5,  1,  4,  9, 16, 25])"
      ]
     },
     "execution_count": 125,
     "metadata": {},
     "output_type": "execute_result"
    }
   ],
   "source": [
    "a = np.array([1,2,3,4,5])\n",
    "b = np.array([1,4,9,16,25])\n",
    "np.hstack((a,b))"
   ]
  },
  {
   "cell_type": "markdown",
   "id": "81507cf2",
   "metadata": {},
   "source": [
    "# Vertical Stacking"
   ]
  },
  {
   "cell_type": "code",
   "execution_count": 126,
   "id": "c73552b4",
   "metadata": {
    "ExecuteTime": {
     "end_time": "2023-02-21T09:08:45.887358Z",
     "start_time": "2023-02-21T09:08:45.870643Z"
    }
   },
   "outputs": [
    {
     "data": {
      "text/plain": [
       "array([[ 1,  2,  3,  4,  5],\n",
       "       [ 1,  4,  9, 16, 25]])"
      ]
     },
     "execution_count": 126,
     "metadata": {},
     "output_type": "execute_result"
    }
   ],
   "source": [
    "np.vstack((a,b))"
   ]
  },
  {
   "cell_type": "code",
   "execution_count": 127,
   "id": "d7107da5",
   "metadata": {
    "ExecuteTime": {
     "end_time": "2023-02-21T09:17:01.939697Z",
     "start_time": "2023-02-21T09:17:01.929166Z"
    }
   },
   "outputs": [
    {
     "data": {
      "text/plain": [
       "array([ True, False, False, False, False])"
      ]
     },
     "execution_count": 127,
     "metadata": {},
     "output_type": "execute_result"
    }
   ],
   "source": [
    "np.equal(a,b)"
   ]
  },
  {
   "cell_type": "code",
   "execution_count": 128,
   "id": "cdf5bf99",
   "metadata": {
    "ExecuteTime": {
     "end_time": "2023-02-21T09:17:25.422420Z",
     "start_time": "2023-02-21T09:17:25.393591Z"
    }
   },
   "outputs": [
    {
     "data": {
      "text/plain": [
       "array(['2017', '2017', '2017'], dtype='<U4')"
      ]
     },
     "execution_count": 128,
     "metadata": {},
     "output_type": "execute_result"
    }
   ],
   "source": [
    "np.repeat('2017',3)"
   ]
  },
  {
   "cell_type": "code",
   "execution_count": 129,
   "id": "be530789",
   "metadata": {
    "ExecuteTime": {
     "end_time": "2023-02-21T09:18:46.954549Z",
     "start_time": "2023-02-21T09:18:46.928383Z"
    }
   },
   "outputs": [
    {
     "data": {
      "text/plain": [
       "array(['Ram', 'Ram', 'Ram', 'Ram', 'Ram'], dtype='<U3')"
      ]
     },
     "execution_count": 129,
     "metadata": {},
     "output_type": "execute_result"
    }
   ],
   "source": [
    "np.tile(\"Ram\",5)"
   ]
  },
  {
   "cell_type": "code",
   "execution_count": 130,
   "id": "279ac1ea",
   "metadata": {
    "ExecuteTime": {
     "end_time": "2023-02-21T09:18:55.704270Z",
     "start_time": "2023-02-21T09:18:55.689609Z"
    }
   },
   "outputs": [
    {
     "data": {
      "text/plain": [
       "array([[3, 3, 3],\n",
       "       [3, 3, 3]])"
      ]
     },
     "execution_count": 130,
     "metadata": {},
     "output_type": "execute_result"
    }
   ],
   "source": [
    "np.tile(3,(2,3))"
   ]
  },
  {
   "cell_type": "code",
   "execution_count": 131,
   "id": "b56266b2",
   "metadata": {
    "ExecuteTime": {
     "end_time": "2023-02-21T09:19:25.286253Z",
     "start_time": "2023-02-21T09:19:25.239761Z"
    }
   },
   "outputs": [
    {
     "data": {
      "text/plain": [
       "(array([2, 0, 1, 0, 1, 0, 1, 0, 2, 1], dtype=int64),\n",
       " array([2. , 2.5, 3. , 3.5, 4. , 4.5, 5. , 5.5, 6. , 6.5, 7. ]))"
      ]
     },
     "execution_count": 131,
     "metadata": {},
     "output_type": "execute_result"
    }
   ],
   "source": [
    "A = np.array([[3, 4, 5, 2],\n",
    "              [6, 7, 2, 6]])\n",
    "np.histogram(A)"
   ]
  },
  {
   "cell_type": "code",
   "execution_count": 132,
   "id": "97ae40b3",
   "metadata": {
    "ExecuteTime": {
     "end_time": "2023-02-21T09:19:49.749417Z",
     "start_time": "2023-02-21T09:19:49.723557Z"
    }
   },
   "outputs": [
    {
     "data": {
      "text/plain": [
       "5.0"
      ]
     },
     "execution_count": 132,
     "metadata": {},
     "output_type": "execute_result"
    }
   ],
   "source": [
    "a = np.array([[2, 4, 6], [4, 8, 12]])\n",
    "np.percentile(a, 50)"
   ]
  },
  {
   "cell_type": "code",
   "execution_count": 134,
   "id": "c4656008",
   "metadata": {
    "ExecuteTime": {
     "end_time": "2023-02-21T09:20:13.367304Z",
     "start_time": "2023-02-21T09:20:13.344877Z"
    }
   },
   "outputs": [
    {
     "data": {
      "text/plain": [
       "2.5"
      ]
     },
     "execution_count": 134,
     "metadata": {},
     "output_type": "execute_result"
    }
   ],
   "source": [
    "arr = np.array([2,3,4,1,6,7])\n",
    "np.percentile(a,5)"
   ]
  },
  {
   "cell_type": "markdown",
   "id": "d95c33c8",
   "metadata": {},
   "source": [
    "# Standard Deviation and Variance\n",
    "## std and var are two functions of NumPy that calculates standard deviation and variance along an axis."
   ]
  },
  {
   "cell_type": "code",
   "execution_count": 135,
   "id": "f5f3d1fe",
   "metadata": {
    "ExecuteTime": {
     "end_time": "2023-02-21T09:21:04.024096Z",
     "start_time": "2023-02-21T09:21:03.998131Z"
    }
   },
   "outputs": [
    {
     "data": {
      "text/plain": [
       "array([1.63299316, 3.26598632])"
      ]
     },
     "execution_count": 135,
     "metadata": {},
     "output_type": "execute_result"
    }
   ],
   "source": [
    "a = np.array([[2, 4, 6], [4, 8, 12]])\n",
    "np.std(a,axis=1)"
   ]
  },
  {
   "cell_type": "code",
   "execution_count": 136,
   "id": "6ca021e6",
   "metadata": {
    "ExecuteTime": {
     "end_time": "2023-02-21T09:21:18.723438Z",
     "start_time": "2023-02-21T09:21:18.712234Z"
    }
   },
   "outputs": [
    {
     "data": {
      "text/plain": [
       "array([1., 2., 3.])"
      ]
     },
     "execution_count": 136,
     "metadata": {},
     "output_type": "execute_result"
    }
   ],
   "source": [
    "np.std(a,axis=0)"
   ]
  },
  {
   "cell_type": "code",
   "execution_count": 137,
   "id": "e233cae1",
   "metadata": {
    "ExecuteTime": {
     "end_time": "2023-02-21T09:21:28.328767Z",
     "start_time": "2023-02-21T09:21:28.315531Z"
    }
   },
   "outputs": [
    {
     "data": {
      "text/plain": [
       "array([ 2.66666667, 10.66666667])"
      ]
     },
     "execution_count": 137,
     "metadata": {},
     "output_type": "execute_result"
    }
   ],
   "source": [
    "np.var(a,axis=1)"
   ]
  },
  {
   "cell_type": "code",
   "execution_count": 138,
   "id": "9a4ef967",
   "metadata": {
    "ExecuteTime": {
     "end_time": "2023-02-21T09:21:41.942090Z",
     "start_time": "2023-02-21T09:21:41.917494Z"
    }
   },
   "outputs": [
    {
     "data": {
      "text/plain": [
       "array([1., 4., 9.])"
      ]
     },
     "execution_count": 138,
     "metadata": {},
     "output_type": "execute_result"
    }
   ],
   "source": [
    "np.var(a,axis=0)"
   ]
  },
  {
   "cell_type": "code",
   "execution_count": null,
   "id": "047da06f",
   "metadata": {},
   "outputs": [],
   "source": []
  }
 ],
 "metadata": {
  "kernelspec": {
   "display_name": "Python 3 (ipykernel)",
   "language": "python",
   "name": "python3"
  },
  "language_info": {
   "codemirror_mode": {
    "name": "ipython",
    "version": 3
   },
   "file_extension": ".py",
   "mimetype": "text/x-python",
   "name": "python",
   "nbconvert_exporter": "python",
   "pygments_lexer": "ipython3",
   "version": "3.9.7"
  }
 },
 "nbformat": 4,
 "nbformat_minor": 5
}
